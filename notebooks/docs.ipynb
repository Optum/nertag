{
 "cells": [
  {
   "cell_type": "markdown",
   "id": "58d1cb40-f06f-4d8a-adfc-a253a811631d",
   "metadata": {},
   "source": [
    "# NERTag Docs\n",
    "\n",
    "A very minimal doc that allows you to interact with the NERTag autolabeling package."
   ]
  },
  {
   "cell_type": "code",
   "execution_count": 1,
   "id": "f55e1431-94c0-4351-8476-7775b56d07e1",
   "metadata": {},
   "outputs": [],
   "source": [
    "import sys\n",
    "\n",
    "sys.path.append(\"..\")"
   ]
  },
  {
   "cell_type": "code",
   "execution_count": 2,
   "id": "792bd192-fca6-4acb-9c7e-c42c453b32f9",
   "metadata": {},
   "outputs": [],
   "source": [
    "import string\n",
    "from collections import Counter\n",
    "\n",
    "import pandas as pd\n",
    "from nertag import ner, preprocess, tagging, tool, utils"
   ]
  },
  {
   "cell_type": "markdown",
   "id": "10b9d959-1f40-47ff-8237-bc54458e5679",
   "metadata": {},
   "source": [
    "## 1. Setup"
   ]
  },
  {
   "cell_type": "markdown",
   "id": "6e143a28-0aef-4395-9553-512bbfc80583",
   "metadata": {},
   "source": [
    "---"
   ]
  },
  {
   "cell_type": "markdown",
   "id": "dbf7a8dc-513a-4bb2-9aa5-c63a0a688792",
   "metadata": {},
   "source": [
    "> Note: Data used in this example comes from [collinsdictionary](https://www.collinsdictionary.com/us/word-lists)."
   ]
  },
  {
   "cell_type": "code",
   "execution_count": 3,
   "id": "575d40ba-bd78-4518-93e7-94188b8feb56",
   "metadata": {},
   "outputs": [],
   "source": [
    "# --- Data\n",
    "path = \"../data/data.txt\"\n",
    "\n",
    "with open(path, \"r\") as f:\n",
    "    texts = f.read().split(\"\\n\")"
   ]
  },
  {
   "cell_type": "code",
   "execution_count": 4,
   "id": "7b918395-bf6c-4717-826a-cbc4c3b7f607",
   "metadata": {},
   "outputs": [],
   "source": [
    "# NOTE: All input text must contain at most a single whitespace between words.\n",
    "# Also punctuation characters must always be connected to a word, else offsets won't align.\n",
    "# i.e. (Hello . Need my account info) will fail...\n",
    "\n",
    "\n",
    "def custom_filter(text: str, filters: set = set(string.punctuation)):\n",
    "    return \" \".join([word for word in text.split() if word not in filters])"
   ]
  },
  {
   "cell_type": "code",
   "execution_count": 5,
   "id": "2addc7c6-f888-42d9-8f3e-661d608d7b93",
   "metadata": {},
   "outputs": [],
   "source": [
    "texts = [custom_filter(text) for text in texts]"
   ]
  },
  {
   "cell_type": "code",
   "execution_count": 6,
   "id": "656ea2f3-44d4-4590-8cdc-0d712e416b4d",
   "metadata": {},
   "outputs": [
    {
     "data": {
      "text/plain": [
       "'a geometric figure having all its sides of equal length'"
      ]
     },
     "execution_count": 6,
     "metadata": {},
     "output_type": "execute_result"
    }
   ],
   "source": [
    "text = texts[1]\n",
    "text"
   ]
  },
  {
   "cell_type": "code",
   "execution_count": 7,
   "id": "938470da-00db-446f-a8c3-b3873b8cfec5",
   "metadata": {},
   "outputs": [],
   "source": [
    "# --- Labels\n",
    "path = \"../data/taxonomy.csv\"\n",
    "\n",
    "df = utils.preprocess_df(\n",
    "    pd.read_csv(path),\n",
    "    stemmer=utils.lemmatizer,\n",
    "    filters=utils.stop_words,\n",
    "    tokenizer=utils.tokenizer,\n",
    ")\n",
    "dct = utils.setup_dict(df)"
   ]
  },
  {
   "cell_type": "code",
   "execution_count": 8,
   "id": "92d921e2-225b-4441-9a3c-9a983e01bb05",
   "metadata": {},
   "outputs": [
    {
     "data": {
      "text/html": [
       "<div>\n",
       "<style scoped>\n",
       "    .dataframe tbody tr th:only-of-type {\n",
       "        vertical-align: middle;\n",
       "    }\n",
       "\n",
       "    .dataframe tbody tr th {\n",
       "        vertical-align: top;\n",
       "    }\n",
       "\n",
       "    .dataframe thead th {\n",
       "        text-align: right;\n",
       "    }\n",
       "</style>\n",
       "<table border=\"1\" class=\"dataframe\">\n",
       "  <thead>\n",
       "    <tr style=\"text-align: right;\">\n",
       "      <th></th>\n",
       "      <th>MATH</th>\n",
       "      <th>PHYSICS</th>\n",
       "      <th>BIOLOGY</th>\n",
       "    </tr>\n",
       "  </thead>\n",
       "  <tbody>\n",
       "    <tr>\n",
       "      <th>0</th>\n",
       "      <td>(angle, acute)</td>\n",
       "      <td>(acceleration)</td>\n",
       "      <td>(aerobic)</td>\n",
       "    </tr>\n",
       "    <tr>\n",
       "      <th>1</th>\n",
       "      <td>(addition)</td>\n",
       "      <td>(alternating, current)</td>\n",
       "      <td>(agglutination)</td>\n",
       "    </tr>\n",
       "    <tr>\n",
       "      <th>2</th>\n",
       "      <td>(algorithm, or, algorism)</td>\n",
       "      <td>(ampere)</td>\n",
       "      <td>(albino)</td>\n",
       "    </tr>\n",
       "    <tr>\n",
       "      <th>3</th>\n",
       "      <td>(angle)</td>\n",
       "      <td>(amplifier)</td>\n",
       "      <td>(allelomorph, or, allele)</td>\n",
       "    </tr>\n",
       "    <tr>\n",
       "      <th>4</th>\n",
       "      <td>(arc)</td>\n",
       "      <td>(angstrom)</td>\n",
       "      <td>(anaerobic)</td>\n",
       "    </tr>\n",
       "    <tr>\n",
       "      <th>...</th>\n",
       "      <td>...</td>\n",
       "      <td>...</td>\n",
       "      <td>...</td>\n",
       "    </tr>\n",
       "    <tr>\n",
       "      <th>171</th>\n",
       "      <td>(fraction, vulgar)</td>\n",
       "      <td>NaN</td>\n",
       "      <td>NaN</td>\n",
       "    </tr>\n",
       "    <tr>\n",
       "      <th>172</th>\n",
       "      <td>(x-axis)</td>\n",
       "      <td>NaN</td>\n",
       "      <td>NaN</td>\n",
       "    </tr>\n",
       "    <tr>\n",
       "      <th>173</th>\n",
       "      <td>(y-axis)</td>\n",
       "      <td>NaN</td>\n",
       "      <td>NaN</td>\n",
       "    </tr>\n",
       "    <tr>\n",
       "      <th>174</th>\n",
       "      <td>(z-axis)</td>\n",
       "      <td>NaN</td>\n",
       "      <td>NaN</td>\n",
       "    </tr>\n",
       "    <tr>\n",
       "      <th>175</th>\n",
       "      <td>(zero)</td>\n",
       "      <td>NaN</td>\n",
       "      <td>NaN</td>\n",
       "    </tr>\n",
       "  </tbody>\n",
       "</table>\n",
       "<p>176 rows × 3 columns</p>\n",
       "</div>"
      ],
      "text/plain": [
       "                          MATH                 PHYSICS  \\\n",
       "0               (angle, acute)          (acceleration)   \n",
       "1                   (addition)  (alternating, current)   \n",
       "2    (algorithm, or, algorism)                (ampere)   \n",
       "3                      (angle)             (amplifier)   \n",
       "4                        (arc)              (angstrom)   \n",
       "..                         ...                     ...   \n",
       "171         (fraction, vulgar)                     NaN   \n",
       "172                   (x-axis)                     NaN   \n",
       "173                   (y-axis)                     NaN   \n",
       "174                   (z-axis)                     NaN   \n",
       "175                     (zero)                     NaN   \n",
       "\n",
       "                       BIOLOGY  \n",
       "0                    (aerobic)  \n",
       "1              (agglutination)  \n",
       "2                     (albino)  \n",
       "3    (allelomorph, or, allele)  \n",
       "4                  (anaerobic)  \n",
       "..                         ...  \n",
       "171                        NaN  \n",
       "172                        NaN  \n",
       "173                        NaN  \n",
       "174                        NaN  \n",
       "175                        NaN  \n",
       "\n",
       "[176 rows x 3 columns]"
      ]
     },
     "execution_count": 8,
     "metadata": {},
     "output_type": "execute_result"
    }
   ],
   "source": [
    "df"
   ]
  },
  {
   "cell_type": "markdown",
   "id": "a4d151a5-cc75-4e75-ac41-4f4531d45e87",
   "metadata": {},
   "source": [
    "### A. Preprocessor\n",
    "\n",
    "Define text preprocessing function.\n",
    "\n",
    "The inputs in order are:\n",
    "\n",
    "1. preprocessing function\n",
    "2. stemming function\n",
    "3. stopwords list\n",
    "4. larget n_gram\n",
    "5. smallest n_gram + 1\n",
    "6. next n_gram size\n",
    "\n",
    "> Note: 4, 5, 6 ~ range(4, 5, 6)"
   ]
  },
  {
   "cell_type": "code",
   "execution_count": 9,
   "id": "7f99f1bc-71c7-4889-80be-bfe2433b3fd1",
   "metadata": {},
   "outputs": [],
   "source": [
    "preprocessor = ner.Preprocessor(\n",
    "    preprocess.preprocess,\n",
    "    stemmer=utils.lemmatizer,\n",
    "    stop_words=utils.stop_words,\n",
    "    start=4,\n",
    "    stop=0,\n",
    "    step=-1,\n",
    ")"
   ]
  },
  {
   "cell_type": "code",
   "execution_count": 10,
   "id": "612b1c2b-7cbc-4107-bf45-70c05b52cab6",
   "metadata": {},
   "outputs": [
    {
     "data": {
      "text/plain": [
       "{'words': [['geometric figure side equal', 'figure side equal length'],\n",
       "  ['geometric figure side', 'figure side equal', 'side equal length'],\n",
       "  ['geometric figure', 'figure side', 'side equal', 'equal length'],\n",
       "  ['geometric', 'figure', 'side', 'equal', 'length']],\n",
       " 'offsets': [['1 2 6 8', '2 6 8 9'],\n",
       "  ['1 2 6', '2 6 8', '6 8 9'],\n",
       "  ['1 2', '2 6', '6 8', '8 9'],\n",
       "  ['1', '2', '6', '8', '9']]}"
      ]
     },
     "execution_count": 10,
     "metadata": {},
     "output_type": "execute_result"
    }
   ],
   "source": [
    "\"\"\"\n",
    "Input: a string of text\n",
    "Output: a dict of preprocessed n_grams and word indices\n",
    "\"\"\"\n",
    "\n",
    "preprocessor(text)"
   ]
  },
  {
   "cell_type": "markdown",
   "id": "7805ccc8-d703-4ff9-8ecb-0ea1233d5a61",
   "metadata": {
    "tags": []
   },
   "source": [
    "### B. BaseLabeler\n",
    "\n",
    "The inputs in order are:\n",
    "\n",
    "1. base labeling function\n",
    "1. wordization function\n",
    "\n",
    "Define initial labeling behavior function."
   ]
  },
  {
   "cell_type": "code",
   "execution_count": 11,
   "id": "81598ce2-0a41-45bc-bb98-9de8ec78ffba",
   "metadata": {},
   "outputs": [],
   "source": [
    "baselabeler = ner.BaseLabeler(utils.base_label, utils.tokenizer)"
   ]
  },
  {
   "cell_type": "code",
   "execution_count": 12,
   "id": "11b322a3-ff0d-4cc0-9a6a-359a63e754e9",
   "metadata": {},
   "outputs": [
    {
     "data": {
      "text/plain": [
       "[{'entity': 'O', 'word': 'a', 'index': 0, 'start': 0, 'end': 1},\n",
       " {'entity': 'O', 'word': 'geometric', 'index': 1, 'start': 2, 'end': 11},\n",
       " {'entity': 'O', 'word': 'figure', 'index': 2, 'start': 12, 'end': 18},\n",
       " {'entity': 'O', 'word': 'having', 'index': 3, 'start': 19, 'end': 25},\n",
       " {'entity': 'O', 'word': 'all', 'index': 4, 'start': 26, 'end': 29},\n",
       " {'entity': 'O', 'word': 'its', 'index': 5, 'start': 30, 'end': 33},\n",
       " {'entity': 'O', 'word': 'sides', 'index': 6, 'start': 34, 'end': 39},\n",
       " {'entity': 'O', 'word': 'of', 'index': 7, 'start': 40, 'end': 42},\n",
       " {'entity': 'O', 'word': 'equal', 'index': 8, 'start': 43, 'end': 48},\n",
       " {'entity': 'O', 'word': 'length', 'index': 9, 'start': 49, 'end': 55}]"
      ]
     },
     "execution_count": 12,
     "metadata": {},
     "output_type": "execute_result"
    }
   ],
   "source": [
    "\"\"\"\n",
    "Input: a string of text\n",
    "Output: a list of base labels for each word\n",
    "\"\"\"\n",
    "\n",
    "baselabeler(text)"
   ]
  },
  {
   "cell_type": "markdown",
   "id": "385ec2d6-2f48-44d8-aba2-b619bee75d01",
   "metadata": {},
   "source": [
    "### C. Tagger\n",
    "\n",
    "The inputs in order are:\n",
    "\n",
    "1. ner tagging function\n",
    "2. taxonomy describing each entity\n",
    "\n",
    "Define named-entity tagging logic function."
   ]
  },
  {
   "cell_type": "code",
   "execution_count": 13,
   "id": "8da2bdd7-0c26-4dc1-b960-a7e5cb22efc1",
   "metadata": {},
   "outputs": [],
   "source": [
    "tagger = ner.Tagger(tagging.ner_tagging, dct)"
   ]
  },
  {
   "cell_type": "code",
   "execution_count": 14,
   "id": "c1dd365d-f337-4f5d-982e-f1f3b6f9003a",
   "metadata": {},
   "outputs": [
    {
     "data": {
      "text/plain": [
       "[{'entity': 'B-MATH', 'word': 'geometric', 'index': 1},\n",
       " {'entity': 'B-MATH', 'word': 'equal', 'index': 8}]"
      ]
     },
     "execution_count": 14,
     "metadata": {},
     "output_type": "execute_result"
    }
   ],
   "source": [
    "\"\"\"\n",
    "Input: a dict of n_grams and word indices\n",
    "Output: a list of labels for each word defined in the taxonomy\n",
    "\"\"\"\n",
    "\n",
    "tagger(preprocessor(text))"
   ]
  },
  {
   "cell_type": "markdown",
   "id": "dc81aab6-17b6-4709-80d4-6a0a9e79c26a",
   "metadata": {},
   "source": [
    "### D. Pipeline\n",
    "\n",
    "Create the NER labeling pipeline."
   ]
  },
  {
   "cell_type": "code",
   "execution_count": 15,
   "id": "9bfa83d4-d5c9-4758-b825-e6f92d95dd18",
   "metadata": {},
   "outputs": [],
   "source": [
    "pipeline = ner.NER(preprocessor, baselabeler, tagger)"
   ]
  },
  {
   "cell_type": "code",
   "execution_count": 16,
   "id": "cc699842-fb9c-4812-a98f-cf661e99f26f",
   "metadata": {},
   "outputs": [
    {
     "data": {
      "text/html": [
       "<div>\n",
       "<style scoped>\n",
       "    .dataframe tbody tr th:only-of-type {\n",
       "        vertical-align: middle;\n",
       "    }\n",
       "\n",
       "    .dataframe tbody tr th {\n",
       "        vertical-align: top;\n",
       "    }\n",
       "\n",
       "    .dataframe thead th {\n",
       "        text-align: right;\n",
       "    }\n",
       "</style>\n",
       "<table border=\"1\" class=\"dataframe\">\n",
       "  <thead>\n",
       "    <tr style=\"text-align: right;\">\n",
       "      <th></th>\n",
       "      <th>entity</th>\n",
       "      <th>word</th>\n",
       "      <th>index</th>\n",
       "      <th>start</th>\n",
       "      <th>end</th>\n",
       "    </tr>\n",
       "  </thead>\n",
       "  <tbody>\n",
       "    <tr>\n",
       "      <th>0</th>\n",
       "      <td>O</td>\n",
       "      <td>a</td>\n",
       "      <td>0</td>\n",
       "      <td>0</td>\n",
       "      <td>1</td>\n",
       "    </tr>\n",
       "    <tr>\n",
       "      <th>1</th>\n",
       "      <td>B-MATH</td>\n",
       "      <td>geometric</td>\n",
       "      <td>1</td>\n",
       "      <td>2</td>\n",
       "      <td>11</td>\n",
       "    </tr>\n",
       "    <tr>\n",
       "      <th>2</th>\n",
       "      <td>O</td>\n",
       "      <td>figure</td>\n",
       "      <td>2</td>\n",
       "      <td>12</td>\n",
       "      <td>18</td>\n",
       "    </tr>\n",
       "    <tr>\n",
       "      <th>3</th>\n",
       "      <td>O</td>\n",
       "      <td>having</td>\n",
       "      <td>3</td>\n",
       "      <td>19</td>\n",
       "      <td>25</td>\n",
       "    </tr>\n",
       "    <tr>\n",
       "      <th>4</th>\n",
       "      <td>O</td>\n",
       "      <td>all</td>\n",
       "      <td>4</td>\n",
       "      <td>26</td>\n",
       "      <td>29</td>\n",
       "    </tr>\n",
       "    <tr>\n",
       "      <th>5</th>\n",
       "      <td>O</td>\n",
       "      <td>its</td>\n",
       "      <td>5</td>\n",
       "      <td>30</td>\n",
       "      <td>33</td>\n",
       "    </tr>\n",
       "    <tr>\n",
       "      <th>6</th>\n",
       "      <td>O</td>\n",
       "      <td>sides</td>\n",
       "      <td>6</td>\n",
       "      <td>34</td>\n",
       "      <td>39</td>\n",
       "    </tr>\n",
       "    <tr>\n",
       "      <th>7</th>\n",
       "      <td>O</td>\n",
       "      <td>of</td>\n",
       "      <td>7</td>\n",
       "      <td>40</td>\n",
       "      <td>42</td>\n",
       "    </tr>\n",
       "    <tr>\n",
       "      <th>8</th>\n",
       "      <td>B-MATH</td>\n",
       "      <td>equal</td>\n",
       "      <td>8</td>\n",
       "      <td>43</td>\n",
       "      <td>48</td>\n",
       "    </tr>\n",
       "    <tr>\n",
       "      <th>9</th>\n",
       "      <td>O</td>\n",
       "      <td>length</td>\n",
       "      <td>9</td>\n",
       "      <td>49</td>\n",
       "      <td>55</td>\n",
       "    </tr>\n",
       "  </tbody>\n",
       "</table>\n",
       "</div>"
      ],
      "text/plain": [
       "   entity       word  index  start  end\n",
       "0       O          a      0      0    1\n",
       "1  B-MATH  geometric      1      2   11\n",
       "2       O     figure      2     12   18\n",
       "3       O     having      3     19   25\n",
       "4       O        all      4     26   29\n",
       "5       O        its      5     30   33\n",
       "6       O      sides      6     34   39\n",
       "7       O         of      7     40   42\n",
       "8  B-MATH      equal      8     43   48\n",
       "9       O     length      9     49   55"
      ]
     },
     "execution_count": 16,
     "metadata": {},
     "output_type": "execute_result"
    }
   ],
   "source": [
    "pd.DataFrame(pipeline.label(text))"
   ]
  },
  {
   "cell_type": "markdown",
   "id": "0663fc3e-67a3-46dc-9b83-be50b474689c",
   "metadata": {},
   "source": [
    "## 2. Label"
   ]
  },
  {
   "cell_type": "markdown",
   "id": "0ed0c053-ec91-4271-a599-cad6d8180115",
   "metadata": {},
   "source": [
    "---"
   ]
  },
  {
   "cell_type": "markdown",
   "id": "de221c5f-dfc6-4f4c-a467-8e37c12e7529",
   "metadata": {},
   "source": [
    "### A. Sequential\n",
    "\n",
    "Sequential labeling is great choice for testing or with smaller datasets."
   ]
  },
  {
   "cell_type": "code",
   "execution_count": 17,
   "id": "1913b7b5-9350-4174-a418-c7244886bcb7",
   "metadata": {},
   "outputs": [
    {
     "name": "stderr",
     "output_type": "stream",
     "text": [
      "\n",
      "  0%|                                                                                                 | 0/256 [00:00<?, ?it/s]\u001b[A\n",
      " 94%|████████████████████████████████████████████████████████████████████████████████     | 241/256 [00:00<00:00, 2408.41it/s]\u001b[A\n",
      "                                                                                                                              \u001b[A"
     ]
    },
    {
     "name": "stdout",
     "output_type": "stream",
     "text": [
      "CPU times: user 111 ms, sys: 22.6 ms, total: 134 ms\n",
      "Wall time: 143 ms\n"
     ]
    }
   ],
   "source": [
    "%%time\n",
    "\n",
    "results = pipeline.sequential_labeling(texts)"
   ]
  },
  {
   "cell_type": "code",
   "execution_count": 18,
   "id": "d4e006fc-fcbc-4827-bb3c-78975f02279e",
   "metadata": {},
   "outputs": [
    {
     "data": {
      "text/html": [
       "<div>\n",
       "<style scoped>\n",
       "    .dataframe tbody tr th:only-of-type {\n",
       "        vertical-align: middle;\n",
       "    }\n",
       "\n",
       "    .dataframe tbody tr th {\n",
       "        vertical-align: top;\n",
       "    }\n",
       "\n",
       "    .dataframe thead th {\n",
       "        text-align: right;\n",
       "    }\n",
       "</style>\n",
       "<table border=\"1\" class=\"dataframe\">\n",
       "  <thead>\n",
       "    <tr style=\"text-align: right;\">\n",
       "      <th></th>\n",
       "      <th>entity</th>\n",
       "      <th>word</th>\n",
       "      <th>index</th>\n",
       "      <th>start</th>\n",
       "      <th>end</th>\n",
       "    </tr>\n",
       "  </thead>\n",
       "  <tbody>\n",
       "    <tr>\n",
       "      <th>0</th>\n",
       "      <td>O</td>\n",
       "      <td>a</td>\n",
       "      <td>0</td>\n",
       "      <td>0</td>\n",
       "      <td>1</td>\n",
       "    </tr>\n",
       "    <tr>\n",
       "      <th>1</th>\n",
       "      <td>B-MATH</td>\n",
       "      <td>mathematical</td>\n",
       "      <td>1</td>\n",
       "      <td>2</td>\n",
       "      <td>14</td>\n",
       "    </tr>\n",
       "    <tr>\n",
       "      <th>2</th>\n",
       "      <td>O</td>\n",
       "      <td>statement</td>\n",
       "      <td>2</td>\n",
       "      <td>15</td>\n",
       "      <td>24</td>\n",
       "    </tr>\n",
       "    <tr>\n",
       "      <th>3</th>\n",
       "      <td>O</td>\n",
       "      <td>that</td>\n",
       "      <td>3</td>\n",
       "      <td>25</td>\n",
       "      <td>29</td>\n",
       "    </tr>\n",
       "    <tr>\n",
       "      <th>4</th>\n",
       "      <td>O</td>\n",
       "      <td>two</td>\n",
       "      <td>4</td>\n",
       "      <td>30</td>\n",
       "      <td>33</td>\n",
       "    </tr>\n",
       "    <tr>\n",
       "      <th>...</th>\n",
       "      <td>...</td>\n",
       "      <td>...</td>\n",
       "      <td>...</td>\n",
       "      <td>...</td>\n",
       "      <td>...</td>\n",
       "    </tr>\n",
       "    <tr>\n",
       "      <th>7</th>\n",
       "      <td>O</td>\n",
       "      <td>an</td>\n",
       "      <td>7</td>\n",
       "      <td>37</td>\n",
       "      <td>39</td>\n",
       "    </tr>\n",
       "    <tr>\n",
       "      <th>8</th>\n",
       "      <td>B-BIOLOGY</td>\n",
       "      <td>ovum</td>\n",
       "      <td>8</td>\n",
       "      <td>40</td>\n",
       "      <td>44</td>\n",
       "    </tr>\n",
       "    <tr>\n",
       "      <th>9</th>\n",
       "      <td>O</td>\n",
       "      <td>and</td>\n",
       "      <td>9</td>\n",
       "      <td>45</td>\n",
       "      <td>48</td>\n",
       "    </tr>\n",
       "    <tr>\n",
       "      <th>10</th>\n",
       "      <td>O</td>\n",
       "      <td>a</td>\n",
       "      <td>10</td>\n",
       "      <td>49</td>\n",
       "      <td>50</td>\n",
       "    </tr>\n",
       "    <tr>\n",
       "      <th>11</th>\n",
       "      <td>O</td>\n",
       "      <td>spermatozoon</td>\n",
       "      <td>11</td>\n",
       "      <td>51</td>\n",
       "      <td>63</td>\n",
       "    </tr>\n",
       "  </tbody>\n",
       "</table>\n",
       "<p>6013 rows × 5 columns</p>\n",
       "</div>"
      ],
      "text/plain": [
       "       entity          word  index  start  end\n",
       "0           O             a      0      0    1\n",
       "1      B-MATH  mathematical      1      2   14\n",
       "2           O     statement      2     15   24\n",
       "3           O          that      3     25   29\n",
       "4           O           two      4     30   33\n",
       "..        ...           ...    ...    ...  ...\n",
       "7           O            an      7     37   39\n",
       "8   B-BIOLOGY          ovum      8     40   44\n",
       "9           O           and      9     45   48\n",
       "10          O             a     10     49   50\n",
       "11          O  spermatozoon     11     51   63\n",
       "\n",
       "[6013 rows x 5 columns]"
      ]
     },
     "execution_count": 18,
     "metadata": {},
     "output_type": "execute_result"
    }
   ],
   "source": [
    "utils.to_dataframe(results)"
   ]
  },
  {
   "cell_type": "markdown",
   "id": "550a258a-b236-4ddb-8b02-63ef5d5ea441",
   "metadata": {},
   "source": [
    "### B. Parallel\n",
    "\n",
    "Parallel labeling is better with larger datasets.\n",
    "\n",
    "It also takes additional optional arguments:\n",
    "\n",
    "* `chunksize`: defaults to 1\n",
    "* `max_workers`: defaults to `os.cpu_count()`."
   ]
  },
  {
   "cell_type": "code",
   "execution_count": 19,
   "id": "2ccd1462-5278-4b1a-a26f-9ed18f4ca9aa",
   "metadata": {},
   "outputs": [
    {
     "data": {
      "application/vnd.jupyter.widget-view+json": {
       "model_id": "",
       "version_major": 2,
       "version_minor": 0
      },
      "text/plain": [
       "  0%|          | 0/256 [00:00<?, ?it/s]"
      ]
     },
     "metadata": {},
     "output_type": "display_data"
    },
    {
     "name": "stdout",
     "output_type": "stream",
     "text": [
      "CPU times: user 202 ms, sys: 185 ms, total: 387 ms\n",
      "Wall time: 7.43 s\n"
     ]
    }
   ],
   "source": [
    "%%time\n",
    "\n",
    "results = pipeline.parallel_labeling(texts)"
   ]
  },
  {
   "cell_type": "code",
   "execution_count": 20,
   "id": "c824206f-2b5e-41d0-8285-5f4c39170b31",
   "metadata": {},
   "outputs": [
    {
     "data": {
      "text/html": [
       "<div>\n",
       "<style scoped>\n",
       "    .dataframe tbody tr th:only-of-type {\n",
       "        vertical-align: middle;\n",
       "    }\n",
       "\n",
       "    .dataframe tbody tr th {\n",
       "        vertical-align: top;\n",
       "    }\n",
       "\n",
       "    .dataframe thead th {\n",
       "        text-align: right;\n",
       "    }\n",
       "</style>\n",
       "<table border=\"1\" class=\"dataframe\">\n",
       "  <thead>\n",
       "    <tr style=\"text-align: right;\">\n",
       "      <th></th>\n",
       "      <th>entity</th>\n",
       "      <th>word</th>\n",
       "      <th>index</th>\n",
       "      <th>start</th>\n",
       "      <th>end</th>\n",
       "    </tr>\n",
       "  </thead>\n",
       "  <tbody>\n",
       "    <tr>\n",
       "      <th>0</th>\n",
       "      <td>O</td>\n",
       "      <td>a</td>\n",
       "      <td>0</td>\n",
       "      <td>0</td>\n",
       "      <td>1</td>\n",
       "    </tr>\n",
       "    <tr>\n",
       "      <th>1</th>\n",
       "      <td>B-MATH</td>\n",
       "      <td>mathematical</td>\n",
       "      <td>1</td>\n",
       "      <td>2</td>\n",
       "      <td>14</td>\n",
       "    </tr>\n",
       "    <tr>\n",
       "      <th>2</th>\n",
       "      <td>O</td>\n",
       "      <td>statement</td>\n",
       "      <td>2</td>\n",
       "      <td>15</td>\n",
       "      <td>24</td>\n",
       "    </tr>\n",
       "    <tr>\n",
       "      <th>3</th>\n",
       "      <td>O</td>\n",
       "      <td>that</td>\n",
       "      <td>3</td>\n",
       "      <td>25</td>\n",
       "      <td>29</td>\n",
       "    </tr>\n",
       "    <tr>\n",
       "      <th>4</th>\n",
       "      <td>O</td>\n",
       "      <td>two</td>\n",
       "      <td>4</td>\n",
       "      <td>30</td>\n",
       "      <td>33</td>\n",
       "    </tr>\n",
       "    <tr>\n",
       "      <th>...</th>\n",
       "      <td>...</td>\n",
       "      <td>...</td>\n",
       "      <td>...</td>\n",
       "      <td>...</td>\n",
       "      <td>...</td>\n",
       "    </tr>\n",
       "    <tr>\n",
       "      <th>7</th>\n",
       "      <td>O</td>\n",
       "      <td>an</td>\n",
       "      <td>7</td>\n",
       "      <td>37</td>\n",
       "      <td>39</td>\n",
       "    </tr>\n",
       "    <tr>\n",
       "      <th>8</th>\n",
       "      <td>B-BIOLOGY</td>\n",
       "      <td>ovum</td>\n",
       "      <td>8</td>\n",
       "      <td>40</td>\n",
       "      <td>44</td>\n",
       "    </tr>\n",
       "    <tr>\n",
       "      <th>9</th>\n",
       "      <td>O</td>\n",
       "      <td>and</td>\n",
       "      <td>9</td>\n",
       "      <td>45</td>\n",
       "      <td>48</td>\n",
       "    </tr>\n",
       "    <tr>\n",
       "      <th>10</th>\n",
       "      <td>O</td>\n",
       "      <td>a</td>\n",
       "      <td>10</td>\n",
       "      <td>49</td>\n",
       "      <td>50</td>\n",
       "    </tr>\n",
       "    <tr>\n",
       "      <th>11</th>\n",
       "      <td>O</td>\n",
       "      <td>spermatozoon</td>\n",
       "      <td>11</td>\n",
       "      <td>51</td>\n",
       "      <td>63</td>\n",
       "    </tr>\n",
       "  </tbody>\n",
       "</table>\n",
       "<p>6013 rows × 5 columns</p>\n",
       "</div>"
      ],
      "text/plain": [
       "       entity          word  index  start  end\n",
       "0           O             a      0      0    1\n",
       "1      B-MATH  mathematical      1      2   14\n",
       "2           O     statement      2     15   24\n",
       "3           O          that      3     25   29\n",
       "4           O           two      4     30   33\n",
       "..        ...           ...    ...    ...  ...\n",
       "7           O            an      7     37   39\n",
       "8   B-BIOLOGY          ovum      8     40   44\n",
       "9           O           and      9     45   48\n",
       "10          O             a     10     49   50\n",
       "11          O  spermatozoon     11     51   63\n",
       "\n",
       "[6013 rows x 5 columns]"
      ]
     },
     "execution_count": 20,
     "metadata": {},
     "output_type": "execute_result"
    }
   ],
   "source": [
    "utils.to_dataframe(results)"
   ]
  },
  {
   "cell_type": "markdown",
   "id": "c36778db-e2e9-4441-9030-4b8a9aafed3e",
   "metadata": {},
   "source": [
    "## 3. Save"
   ]
  },
  {
   "cell_type": "markdown",
   "id": "c0f0dc83-fc82-4bd2-be6a-a1f1ea8967b6",
   "metadata": {},
   "source": [
    "---"
   ]
  },
  {
   "cell_type": "markdown",
   "id": "adc997b7-e9e3-46d7-99f8-3a3705dac032",
   "metadata": {},
   "source": [
    "During the labeling phase, it is possible that some labels were assigned to examples not defined within the taxonomy. An updated taxonomy with these labels can be created as follows:"
   ]
  },
  {
   "cell_type": "code",
   "execution_count": 21,
   "id": "74ea1298-5def-4892-bc2f-f528f50438c5",
   "metadata": {},
   "outputs": [
    {
     "data": {
      "text/html": [
       "<div>\n",
       "<style scoped>\n",
       "    .dataframe tbody tr th:only-of-type {\n",
       "        vertical-align: middle;\n",
       "    }\n",
       "\n",
       "    .dataframe tbody tr th {\n",
       "        vertical-align: top;\n",
       "    }\n",
       "\n",
       "    .dataframe thead th {\n",
       "        text-align: right;\n",
       "    }\n",
       "</style>\n",
       "<table border=\"1\" class=\"dataframe\">\n",
       "  <thead>\n",
       "    <tr style=\"text-align: right;\">\n",
       "      <th></th>\n",
       "      <th>MATH</th>\n",
       "      <th>BIOLOGY</th>\n",
       "      <th>PHYSICS</th>\n",
       "    </tr>\n",
       "  </thead>\n",
       "  <tbody>\n",
       "    <tr>\n",
       "      <th>0</th>\n",
       "      <td>(mathematical</td>\n",
       "      <td>asexual</td>\n",
       "      <td>acceleration</td>\n",
       "    </tr>\n",
       "    <tr>\n",
       "      <th>1</th>\n",
       "      <td>Cartesian coordinate</td>\n",
       "      <td>asexual,</td>\n",
       "      <td>alternating current</td>\n",
       "    </tr>\n",
       "    <tr>\n",
       "      <th>2</th>\n",
       "      <td>addition</td>\n",
       "      <td>bacteria,</td>\n",
       "      <td>ampere</td>\n",
       "    </tr>\n",
       "    <tr>\n",
       "      <th>3</th>\n",
       "      <td>addition,</td>\n",
       "      <td>cell</td>\n",
       "      <td>atom</td>\n",
       "    </tr>\n",
       "    <tr>\n",
       "      <th>4</th>\n",
       "      <td>angle</td>\n",
       "      <td>cell,</td>\n",
       "      <td>atoms</td>\n",
       "    </tr>\n",
       "    <tr>\n",
       "      <th>...</th>\n",
       "      <td>...</td>\n",
       "      <td>...</td>\n",
       "      <td>...</td>\n",
       "    </tr>\n",
       "    <tr>\n",
       "      <th>191</th>\n",
       "      <td>vector</td>\n",
       "      <td>NaN</td>\n",
       "      <td>NaN</td>\n",
       "    </tr>\n",
       "    <tr>\n",
       "      <th>192</th>\n",
       "      <td>volume:</td>\n",
       "      <td>NaN</td>\n",
       "      <td>NaN</td>\n",
       "    </tr>\n",
       "    <tr>\n",
       "      <th>193</th>\n",
       "      <td>zero</td>\n",
       "      <td>NaN</td>\n",
       "      <td>NaN</td>\n",
       "    </tr>\n",
       "    <tr>\n",
       "      <th>194</th>\n",
       "      <td>zero,</td>\n",
       "      <td>NaN</td>\n",
       "      <td>NaN</td>\n",
       "    </tr>\n",
       "    <tr>\n",
       "      <th>195</th>\n",
       "      <td>zero.</td>\n",
       "      <td>NaN</td>\n",
       "      <td>NaN</td>\n",
       "    </tr>\n",
       "  </tbody>\n",
       "</table>\n",
       "<p>196 rows × 3 columns</p>\n",
       "</div>"
      ],
      "text/plain": [
       "                     MATH    BIOLOGY              PHYSICS\n",
       "0           (mathematical    asexual         acceleration\n",
       "1    Cartesian coordinate   asexual,  alternating current\n",
       "2                addition  bacteria,               ampere\n",
       "3               addition,       cell                 atom\n",
       "4                   angle      cell,                atoms\n",
       "..                    ...        ...                  ...\n",
       "191                vector        NaN                  NaN\n",
       "192               volume:        NaN                  NaN\n",
       "193                  zero        NaN                  NaN\n",
       "194                 zero,        NaN                  NaN\n",
       "195                 zero.        NaN                  NaN\n",
       "\n",
       "[196 rows x 3 columns]"
      ]
     },
     "execution_count": 21,
     "metadata": {},
     "output_type": "execute_result"
    }
   ],
   "source": [
    "taxonomyv2 = utils.to_taxonomy(results)\n",
    "taxonomyv2"
   ]
  },
  {
   "cell_type": "code",
   "execution_count": 22,
   "id": "6963f154-7f5f-4611-addf-49e367f3fd14",
   "metadata": {},
   "outputs": [],
   "source": [
    "path = \"../data/taxonomy2.csv\"\n",
    "taxonomyv2.to_csv(path, index=False)"
   ]
  },
  {
   "cell_type": "markdown",
   "id": "5dc29710-3aa2-45ab-abd0-773cc7bfb0fc",
   "metadata": {},
   "source": [
    "> This can be used to:\n",
    "> * grow the taxonomy for free\n",
    "> * verify the quality of the labeling process."
   ]
  },
  {
   "cell_type": "markdown",
   "id": "0764b7b5-08cf-4d4f-ae7c-387019f12c61",
   "metadata": {},
   "source": [
    "## 4. Revisions\n",
    "\n",
    "After making any changes to the taxonomy, whether it be adding new terms or removing old ones, it is important to ensure that the examples under each entity are consistent. A built-in tool using the same preprocessing and word set methodology used in the **NERTag** auto-labeler is used for revising conflicts between entities in the taxonomy.\n",
    "\n",
    "> Note: Although this is placed as \"step 4\", it should be used anytime you want to use or label the taxonomy, hence, should be used even before step 1 of this notebook."
   ]
  },
  {
   "cell_type": "code",
   "execution_count": 23,
   "id": "92b47597-a000-4529-b233-1553b0ef5f40",
   "metadata": {},
   "outputs": [],
   "source": [
    "df = pd.read_csv(path)"
   ]
  },
  {
   "cell_type": "code",
   "execution_count": 24,
   "id": "a692ef38-395e-4bc1-8d61-958d056faf0e",
   "metadata": {},
   "outputs": [
    {
     "data": {
      "text/html": [
       "<div>\n",
       "<style scoped>\n",
       "    .dataframe tbody tr th:only-of-type {\n",
       "        vertical-align: middle;\n",
       "    }\n",
       "\n",
       "    .dataframe tbody tr th {\n",
       "        vertical-align: top;\n",
       "    }\n",
       "\n",
       "    .dataframe thead th {\n",
       "        text-align: right;\n",
       "    }\n",
       "</style>\n",
       "<table border=\"1\" class=\"dataframe\">\n",
       "  <thead>\n",
       "    <tr style=\"text-align: right;\">\n",
       "      <th></th>\n",
       "      <th>MATH</th>\n",
       "      <th>BIOLOGY</th>\n",
       "      <th>PHYSICS</th>\n",
       "    </tr>\n",
       "  </thead>\n",
       "  <tbody>\n",
       "    <tr>\n",
       "      <th>0</th>\n",
       "      <td>(mathematical</td>\n",
       "      <td>asexual</td>\n",
       "      <td>acceleration</td>\n",
       "    </tr>\n",
       "    <tr>\n",
       "      <th>1</th>\n",
       "      <td>Cartesian coordinate</td>\n",
       "      <td>asexual,</td>\n",
       "      <td>alternating current</td>\n",
       "    </tr>\n",
       "    <tr>\n",
       "      <th>2</th>\n",
       "      <td>addition</td>\n",
       "      <td>bacteria,</td>\n",
       "      <td>ampere</td>\n",
       "    </tr>\n",
       "    <tr>\n",
       "      <th>3</th>\n",
       "      <td>addition,</td>\n",
       "      <td>cell</td>\n",
       "      <td>atom</td>\n",
       "    </tr>\n",
       "    <tr>\n",
       "      <th>4</th>\n",
       "      <td>angle</td>\n",
       "      <td>cell,</td>\n",
       "      <td>atoms</td>\n",
       "    </tr>\n",
       "    <tr>\n",
       "      <th>...</th>\n",
       "      <td>...</td>\n",
       "      <td>...</td>\n",
       "      <td>...</td>\n",
       "    </tr>\n",
       "    <tr>\n",
       "      <th>191</th>\n",
       "      <td>vector</td>\n",
       "      <td>NaN</td>\n",
       "      <td>NaN</td>\n",
       "    </tr>\n",
       "    <tr>\n",
       "      <th>192</th>\n",
       "      <td>volume:</td>\n",
       "      <td>NaN</td>\n",
       "      <td>NaN</td>\n",
       "    </tr>\n",
       "    <tr>\n",
       "      <th>193</th>\n",
       "      <td>zero</td>\n",
       "      <td>NaN</td>\n",
       "      <td>NaN</td>\n",
       "    </tr>\n",
       "    <tr>\n",
       "      <th>194</th>\n",
       "      <td>zero,</td>\n",
       "      <td>NaN</td>\n",
       "      <td>NaN</td>\n",
       "    </tr>\n",
       "    <tr>\n",
       "      <th>195</th>\n",
       "      <td>zero.</td>\n",
       "      <td>NaN</td>\n",
       "      <td>(mathematical</td>\n",
       "    </tr>\n",
       "  </tbody>\n",
       "</table>\n",
       "<p>196 rows × 3 columns</p>\n",
       "</div>"
      ],
      "text/plain": [
       "                     MATH    BIOLOGY              PHYSICS\n",
       "0           (mathematical    asexual         acceleration\n",
       "1    Cartesian coordinate   asexual,  alternating current\n",
       "2                addition  bacteria,               ampere\n",
       "3               addition,       cell                 atom\n",
       "4                   angle      cell,                atoms\n",
       "..                    ...        ...                  ...\n",
       "191                vector        NaN                  NaN\n",
       "192               volume:        NaN                  NaN\n",
       "193                  zero        NaN                  NaN\n",
       "194                 zero,        NaN                  NaN\n",
       "195                 zero.        NaN        (mathematical\n",
       "\n",
       "[196 rows x 3 columns]"
      ]
     },
     "execution_count": 24,
     "metadata": {},
     "output_type": "execute_result"
    }
   ],
   "source": [
    "# --- Example conflict\n",
    "df.iloc[195][\"PHYSICS\"] = df.iloc[0][\"MATH\"]\n",
    "df"
   ]
  },
  {
   "cell_type": "code",
   "execution_count": 25,
   "id": "57e942ad-721d-432e-ac76-b4b12f61f261",
   "metadata": {},
   "outputs": [],
   "source": [
    "# --- Create reviser\n",
    "reviser = tool.TaxonomyReviser(df)\n",
    "\n",
    "reviser.preprocess(\n",
    "    utils.preprocess_df,\n",
    "    df,\n",
    "    stemmer=utils.lemmatizer,\n",
    "    filters=utils.stop_words,\n",
    "    tokenizer=utils.tokenizer,\n",
    ")"
   ]
  },
  {
   "cell_type": "code",
   "execution_count": 26,
   "id": "a7fb89e5-f4d4-44e8-9749-ee89c6e44d69",
   "metadata": {},
   "outputs": [
    {
     "name": "stderr",
     "output_type": "stream",
     "text": [
      "2022-04-26 14:12:42 INFO     PROGRESS: 0 / 1\n",
      "Choose an entity that the example should belong to:\n",
      "- Labels: ['PHYSICS', 'MATH']\n",
      "- Examples: ['(mathematical']\n",
      "- Choices:\n",
      "\n"
     ]
    },
    {
     "name": "stdin",
     "output_type": "stream",
     "text": [
      "Enter an index (int) from [0, 1], -1 meaning neither:  1\n"
     ]
    },
    {
     "name": "stderr",
     "output_type": "stream",
     "text": [
      "2022-04-26 14:12:48 INFO     > Selected: MATH\n",
      "2022-04-26 14:12:48 INFO     CHANGES:\n",
      "2022-04-26 14:12:48 INFO     - MOVED `(mathematical` FROM [PHYSICS] TO [MATH]\n",
      "2022-04-26 14:12:48 INFO     - MOVED `(mathematical` FROM [MATH] TO [MATH]\n",
      "2022-04-26 14:12:48 INFO     \n",
      "+---------------------------------------------------------------------------+\n",
      "\n"
     ]
    }
   ],
   "source": [
    "history = reviser.revise(save_name=\"../data/taxonomy3\")"
   ]
  },
  {
   "cell_type": "code",
   "execution_count": 27,
   "id": "012868c3-c755-4dce-8ca2-df1f799028eb",
   "metadata": {},
   "outputs": [
    {
     "data": {
      "text/html": [
       "<div>\n",
       "<style scoped>\n",
       "    .dataframe tbody tr th:only-of-type {\n",
       "        vertical-align: middle;\n",
       "    }\n",
       "\n",
       "    .dataframe tbody tr th {\n",
       "        vertical-align: top;\n",
       "    }\n",
       "\n",
       "    .dataframe thead th {\n",
       "        text-align: right;\n",
       "    }\n",
       "</style>\n",
       "<table border=\"1\" class=\"dataframe\">\n",
       "  <thead>\n",
       "    <tr style=\"text-align: right;\">\n",
       "      <th></th>\n",
       "      <th>MATH</th>\n",
       "      <th>BIOLOGY</th>\n",
       "      <th>PHYSICS</th>\n",
       "    </tr>\n",
       "  </thead>\n",
       "  <tbody>\n",
       "    <tr>\n",
       "      <th>0</th>\n",
       "      <td>Cartesian coordinate</td>\n",
       "      <td>asexual</td>\n",
       "      <td>acceleration</td>\n",
       "    </tr>\n",
       "    <tr>\n",
       "      <th>1</th>\n",
       "      <td>addition</td>\n",
       "      <td>asexual,</td>\n",
       "      <td>alternating current</td>\n",
       "    </tr>\n",
       "    <tr>\n",
       "      <th>2</th>\n",
       "      <td>addition,</td>\n",
       "      <td>bacteria,</td>\n",
       "      <td>ampere</td>\n",
       "    </tr>\n",
       "    <tr>\n",
       "      <th>3</th>\n",
       "      <td>angle</td>\n",
       "      <td>cell</td>\n",
       "      <td>atom</td>\n",
       "    </tr>\n",
       "    <tr>\n",
       "      <th>4</th>\n",
       "      <td>angle of which is a right angle</td>\n",
       "      <td>cell,</td>\n",
       "      <td>atoms</td>\n",
       "    </tr>\n",
       "    <tr>\n",
       "      <th>...</th>\n",
       "      <td>...</td>\n",
       "      <td>...</td>\n",
       "      <td>...</td>\n",
       "    </tr>\n",
       "    <tr>\n",
       "      <th>191</th>\n",
       "      <td>volume:</td>\n",
       "      <td>NaN</td>\n",
       "      <td>NaN</td>\n",
       "    </tr>\n",
       "    <tr>\n",
       "      <th>192</th>\n",
       "      <td>zero</td>\n",
       "      <td>NaN</td>\n",
       "      <td>NaN</td>\n",
       "    </tr>\n",
       "    <tr>\n",
       "      <th>193</th>\n",
       "      <td>zero,</td>\n",
       "      <td>NaN</td>\n",
       "      <td>NaN</td>\n",
       "    </tr>\n",
       "    <tr>\n",
       "      <th>194</th>\n",
       "      <td>zero.</td>\n",
       "      <td>NaN</td>\n",
       "      <td>NaN</td>\n",
       "    </tr>\n",
       "    <tr>\n",
       "      <th>195</th>\n",
       "      <td>(mathematical</td>\n",
       "      <td>NaN</td>\n",
       "      <td>NaN</td>\n",
       "    </tr>\n",
       "  </tbody>\n",
       "</table>\n",
       "<p>196 rows × 3 columns</p>\n",
       "</div>"
      ],
      "text/plain": [
       "                                MATH    BIOLOGY              PHYSICS\n",
       "0               Cartesian coordinate    asexual         acceleration\n",
       "1                           addition   asexual,  alternating current\n",
       "2                          addition,  bacteria,               ampere\n",
       "3                              angle       cell                 atom\n",
       "4    angle of which is a right angle      cell,                atoms\n",
       "..                               ...        ...                  ...\n",
       "191                          volume:        NaN                  NaN\n",
       "192                             zero        NaN                  NaN\n",
       "193                            zero,        NaN                  NaN\n",
       "194                            zero.        NaN                  NaN\n",
       "195                    (mathematical        NaN                  NaN\n",
       "\n",
       "[196 rows x 3 columns]"
      ]
     },
     "execution_count": 27,
     "metadata": {},
     "output_type": "execute_result"
    }
   ],
   "source": [
    "# NOTE: df != df_raw\n",
    "reviser.df_raw"
   ]
  },
  {
   "cell_type": "markdown",
   "id": "2ecf17f8-0bc0-42b0-b539-c992fef0f5ce",
   "metadata": {},
   "source": [
    "## 5. Extra\n",
    "\n",
    "Not part of library, but we can also check the most popular words in the corpus that are defined in the taxonomy."
   ]
  },
  {
   "cell_type": "code",
   "execution_count": 28,
   "id": "04821239-abeb-44e3-a487-d7c07565c0bc",
   "metadata": {},
   "outputs": [],
   "source": [
    "df2 = utils.preprocess_df(\n",
    "    df, stemmer=utils.lemmatizer, filters=utils.stop_words, tokenizer=utils.tokenizer,\n",
    ")\n",
    "dct2 = utils.setup_dict(df2)"
   ]
  },
  {
   "cell_type": "code",
   "execution_count": 29,
   "id": "b3685e44-b599-4f80-ae22-bc1b30012faf",
   "metadata": {},
   "outputs": [
    {
     "data": {
      "text/html": [
       "<div>\n",
       "<style scoped>\n",
       "    .dataframe tbody tr th:only-of-type {\n",
       "        vertical-align: middle;\n",
       "    }\n",
       "\n",
       "    .dataframe tbody tr th {\n",
       "        vertical-align: top;\n",
       "    }\n",
       "\n",
       "    .dataframe thead th {\n",
       "        text-align: right;\n",
       "    }\n",
       "</style>\n",
       "<table border=\"1\" class=\"dataframe\">\n",
       "  <thead>\n",
       "    <tr style=\"text-align: right;\">\n",
       "      <th></th>\n",
       "      <th>MATH</th>\n",
       "      <th>BIOLOGY</th>\n",
       "      <th>PHYSICS</th>\n",
       "    </tr>\n",
       "  </thead>\n",
       "  <tbody>\n",
       "    <tr>\n",
       "      <th>0</th>\n",
       "      <td>((mathematical)</td>\n",
       "      <td>(asexual)</td>\n",
       "      <td>(acceleration)</td>\n",
       "    </tr>\n",
       "    <tr>\n",
       "      <th>1</th>\n",
       "      <td>(Cartesian, coordinate)</td>\n",
       "      <td>(asexual,)</td>\n",
       "      <td>(alternating, current)</td>\n",
       "    </tr>\n",
       "    <tr>\n",
       "      <th>2</th>\n",
       "      <td>(addition)</td>\n",
       "      <td>(bacteria,)</td>\n",
       "      <td>(ampere)</td>\n",
       "    </tr>\n",
       "    <tr>\n",
       "      <th>3</th>\n",
       "      <td>(addition,)</td>\n",
       "      <td>(cell)</td>\n",
       "      <td>(atom)</td>\n",
       "    </tr>\n",
       "    <tr>\n",
       "      <th>4</th>\n",
       "      <td>(angle)</td>\n",
       "      <td>(cell,)</td>\n",
       "      <td>(atom)</td>\n",
       "    </tr>\n",
       "    <tr>\n",
       "      <th>...</th>\n",
       "      <td>...</td>\n",
       "      <td>...</td>\n",
       "      <td>...</td>\n",
       "    </tr>\n",
       "    <tr>\n",
       "      <th>191</th>\n",
       "      <td>(vector)</td>\n",
       "      <td>NaN</td>\n",
       "      <td>NaN</td>\n",
       "    </tr>\n",
       "    <tr>\n",
       "      <th>192</th>\n",
       "      <td>(volume:)</td>\n",
       "      <td>NaN</td>\n",
       "      <td>NaN</td>\n",
       "    </tr>\n",
       "    <tr>\n",
       "      <th>193</th>\n",
       "      <td>(zero)</td>\n",
       "      <td>NaN</td>\n",
       "      <td>NaN</td>\n",
       "    </tr>\n",
       "    <tr>\n",
       "      <th>194</th>\n",
       "      <td>(zero,)</td>\n",
       "      <td>NaN</td>\n",
       "      <td>NaN</td>\n",
       "    </tr>\n",
       "    <tr>\n",
       "      <th>195</th>\n",
       "      <td>(zero.)</td>\n",
       "      <td>NaN</td>\n",
       "      <td>((mathematical)</td>\n",
       "    </tr>\n",
       "  </tbody>\n",
       "</table>\n",
       "<p>196 rows × 3 columns</p>\n",
       "</div>"
      ],
      "text/plain": [
       "                        MATH      BIOLOGY                 PHYSICS\n",
       "0            ((mathematical)    (asexual)          (acceleration)\n",
       "1    (Cartesian, coordinate)   (asexual,)  (alternating, current)\n",
       "2                 (addition)  (bacteria,)                (ampere)\n",
       "3                (addition,)       (cell)                  (atom)\n",
       "4                    (angle)      (cell,)                  (atom)\n",
       "..                       ...          ...                     ...\n",
       "191                 (vector)          NaN                     NaN\n",
       "192                (volume:)          NaN                     NaN\n",
       "193                   (zero)          NaN                     NaN\n",
       "194                  (zero,)          NaN                     NaN\n",
       "195                  (zero.)          NaN         ((mathematical)\n",
       "\n",
       "[196 rows x 3 columns]"
      ]
     },
     "execution_count": 29,
     "metadata": {},
     "output_type": "execute_result"
    }
   ],
   "source": [
    "df2"
   ]
  },
  {
   "cell_type": "code",
   "execution_count": 30,
   "id": "b9763c37-18b5-4bf8-ad66-e52a9758d9a8",
   "metadata": {},
   "outputs": [],
   "source": [
    "entities = {\n",
    "    entity: [k for k in dct2 if dct2[k] == entity] for entity in set(dct2.values())\n",
    "}\n",
    "words = Counter([v for k in dct2 for v in k])"
   ]
  },
  {
   "cell_type": "code",
   "execution_count": 31,
   "id": "fceb0ee9-c576-4971-8650-827533d6db4e",
   "metadata": {},
   "outputs": [
    {
     "data": {
      "text/plain": [
       "[('number', 8),\n",
       " ('a', 5),\n",
       " ('angle', 4),\n",
       " ('is', 3),\n",
       " ('the', 3),\n",
       " ('right', 2),\n",
       " ('which', 2),\n",
       " ('an', 2),\n",
       " ('denominator', 2),\n",
       " ('complex', 2)]"
      ]
     },
     "execution_count": 31,
     "metadata": {},
     "output_type": "execute_result"
    }
   ],
   "source": [
    "top_k = 10\n",
    "words.most_common()[:top_k]"
   ]
  },
  {
   "cell_type": "code",
   "execution_count": 32,
   "id": "9da1fcf1-7647-4ae4-b306-19bb0a8ef877",
   "metadata": {},
   "outputs": [
    {
     "data": {
      "text/plain": [
       "{frozenset({'complex', 'number'}): 'MATH',\n",
       " frozenset({'irrational', 'number'}): 'MATH',\n",
       " frozenset({'number'}): 'MATH',\n",
       " frozenset({'a', 'complex', 'is', 'number', 'number;'}): 'MATH',\n",
       " frozenset({'a', 'number', 'number,', 'or', 'real'}): 'MATH',\n",
       " frozenset({'an', 'irrational', 'number', 'number;', 'or'}): 'MATH',\n",
       " frozenset({'number', 'rational'}): 'MATH',\n",
       " frozenset({'number', 'real'}): 'MATH'}"
      ]
     },
     "execution_count": 32,
     "metadata": {},
     "output_type": "execute_result"
    }
   ],
   "source": [
    "{e: k for k, v in entities.items() for e in v if \"number\" in e}"
   ]
  }
 ],
 "metadata": {
  "kernelspec": {
   "display_name": "Python 3 (ipykernel)",
   "language": "python",
   "name": "python3"
  },
  "language_info": {
   "codemirror_mode": {
    "name": "ipython",
    "version": 3
   },
   "file_extension": ".py",
   "mimetype": "text/x-python",
   "name": "python",
   "nbconvert_exporter": "python",
   "pygments_lexer": "ipython3",
   "version": "3.9.7"
  }
 },
 "nbformat": 4,
 "nbformat_minor": 5
}
